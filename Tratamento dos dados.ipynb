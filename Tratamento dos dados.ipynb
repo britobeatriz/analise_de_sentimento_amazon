{
 "cells": [
  {
   "cell_type": "markdown",
   "id": "029e01da",
   "metadata": {},
   "source": [
    "# Visualização dos dados e tratamento"
   ]
  },
  {
   "cell_type": "markdown",
   "id": "8f538088",
   "metadata": {},
   "source": [
    "## Bibliotecas"
   ]
  },
  {
   "cell_type": "code",
   "execution_count": 125,
   "id": "fd44a1d9",
   "metadata": {},
   "outputs": [],
   "source": [
    "import pandas as pd"
   ]
  },
  {
   "cell_type": "markdown",
   "id": "4466fd4d",
   "metadata": {},
   "source": [
    "## Visualizando e conhecendo o DataFrame"
   ]
  },
  {
   "cell_type": "code",
   "execution_count": 126,
   "id": "b274e31d",
   "metadata": {},
   "outputs": [
    {
     "data": {
      "text/html": [
       "<div>\n",
       "<style scoped>\n",
       "    .dataframe tbody tr th:only-of-type {\n",
       "        vertical-align: middle;\n",
       "    }\n",
       "\n",
       "    .dataframe tbody tr th {\n",
       "        vertical-align: top;\n",
       "    }\n",
       "\n",
       "    .dataframe thead th {\n",
       "        text-align: right;\n",
       "    }\n",
       "</style>\n",
       "<table border=\"1\" class=\"dataframe\">\n",
       "  <thead>\n",
       "    <tr style=\"text-align: right;\">\n",
       "      <th></th>\n",
       "      <th>avaliacao</th>\n",
       "      <th>texto</th>\n",
       "    </tr>\n",
       "  </thead>\n",
       "  <tbody>\n",
       "    <tr>\n",
       "      <th>0</th>\n",
       "      <td>1,0 de 5 estrelas</td>\n",
       "      <td>\\nO livro chegou bastante 'entortado'\\n</td>\n",
       "    </tr>\n",
       "    <tr>\n",
       "      <th>1</th>\n",
       "      <td>5,0 de 5 estrelas</td>\n",
       "      <td>\\nO livro de Dale Carnegie é um clássico da au...</td>\n",
       "    </tr>\n",
       "    <tr>\n",
       "      <th>2</th>\n",
       "      <td>5,0 de 5 estrelas</td>\n",
       "      <td>\\nConfesso que sempre tenho um preconceito com...</td>\n",
       "    </tr>\n",
       "    <tr>\n",
       "      <th>3</th>\n",
       "      <td>5,0 de 5 estrelas</td>\n",
       "      <td>\\nJá tinha lido outro livro do Dale Carnegie a...</td>\n",
       "    </tr>\n",
       "    <tr>\n",
       "      <th>4</th>\n",
       "      <td>5,0 de 5 estrelas</td>\n",
       "      <td>\\nClássico atemporal publicado pela primeira v...</td>\n",
       "    </tr>\n",
       "  </tbody>\n",
       "</table>\n",
       "</div>"
      ],
      "text/plain": [
       "           avaliacao                                              texto\n",
       "0  1,0 de 5 estrelas            \\nO livro chegou bastante 'entortado'\\n\n",
       "1  5,0 de 5 estrelas  \\nO livro de Dale Carnegie é um clássico da au...\n",
       "2  5,0 de 5 estrelas  \\nConfesso que sempre tenho um preconceito com...\n",
       "3  5,0 de 5 estrelas  \\nJá tinha lido outro livro do Dale Carnegie a...\n",
       "4  5,0 de 5 estrelas  \\nClássico atemporal publicado pela primeira v..."
      ]
     },
     "execution_count": 126,
     "metadata": {},
     "output_type": "execute_result"
    }
   ],
   "source": [
    "dados = pd.read_csv('dados/scrap.csv', sep=';')\n",
    "dados.head()"
   ]
  },
  {
   "cell_type": "code",
   "execution_count": 127,
   "id": "85411301",
   "metadata": {},
   "outputs": [
    {
     "name": "stdout",
     "output_type": "stream",
     "text": [
      "O DataFrame possui 427 linhas e 2 colunas.\n"
     ]
    }
   ],
   "source": [
    "print(f'O DataFrame possui {dados.shape[0]} linhas e {dados.shape[1]} colunas.')"
   ]
  },
  {
   "cell_type": "code",
   "execution_count": 128,
   "id": "68799204",
   "metadata": {},
   "outputs": [
    {
     "name": "stdout",
     "output_type": "stream",
     "text": [
      "Ocorrencia de valor nulo em cada coluna:\n"
     ]
    },
    {
     "data": {
      "text/plain": [
       "avaliacao    0\n",
       "texto        7\n",
       "dtype: int64"
      ]
     },
     "execution_count": 128,
     "metadata": {},
     "output_type": "execute_result"
    }
   ],
   "source": [
    "print('Ocorrencia de valor nulo em cada coluna:')\n",
    "dados.isna().sum()"
   ]
  },
  {
   "cell_type": "code",
   "execution_count": 129,
   "id": "0a832a35",
   "metadata": {},
   "outputs": [],
   "source": [
    "# removendo valores nulo #\n",
    "dados = dados.dropna(how = 'any') #any - remove a linha inteira que contem ao menos 1 valor nulo\n",
    "#  #  #  #"
   ]
  },
  {
   "cell_type": "code",
   "execution_count": 130,
   "id": "5fb6ef92",
   "metadata": {},
   "outputs": [
    {
     "name": "stdout",
     "output_type": "stream",
     "text": [
      "O DataFrame sem dados nulos possui 420 linhas e 2 colunas.\n"
     ]
    }
   ],
   "source": [
    "print(f'O DataFrame sem dados nulos possui {dados.shape[0]} linhas e {dados.shape[1]} colunas.')"
   ]
  },
  {
   "cell_type": "code",
   "execution_count": 131,
   "id": "03d09db1",
   "metadata": {},
   "outputs": [],
   "source": [
    "# transformando dados #\n",
    "\n",
    "# removendo o \\n da coluna 'texto' #\n",
    "dados['texto'] = dados['texto'].map(lambda x: str(x).replace('\\n', ''))\n",
    "\n",
    "# removendo \",0 de 5 estrelas\" dos valores da coluna 'avaliacao' #\n",
    "dados['avaliacao'] = dados['avaliacao'].map(lambda x: str(x).replace(',0 de 5 estrelas', '',))\n",
    "\n",
    "# transformando 'avaliacao' em numeros inteiros #\n",
    "dados['avaliacao'] = dados['avaliacao'].astype(int)\n",
    "\n",
    "# adicionando coluna 'sentimento' #\n",
    "df = pd.DataFrame(dados,columns=['avaliacao','texto','sentimento'])\n",
    "\n",
    "# substituindo valores nulos por sentimentos #\n",
    "#(<3) = insatisfação, (3) = neutro, (>3) = satisfação\n",
    "df.loc[df.avaliacao < 3,'sentimento']='insatisfação'\n",
    "df.loc[df.avaliacao == 3,'sentimento']='neutro'\n",
    "df.loc[df.avaliacao > 3,'sentimento']='satisfação'\n",
    "\n",
    "#  #  #  #"
   ]
  },
  {
   "cell_type": "code",
   "execution_count": 132,
   "id": "be3a99cf",
   "metadata": {},
   "outputs": [
    {
     "data": {
      "text/html": [
       "<div>\n",
       "<style scoped>\n",
       "    .dataframe tbody tr th:only-of-type {\n",
       "        vertical-align: middle;\n",
       "    }\n",
       "\n",
       "    .dataframe tbody tr th {\n",
       "        vertical-align: top;\n",
       "    }\n",
       "\n",
       "    .dataframe thead th {\n",
       "        text-align: right;\n",
       "    }\n",
       "</style>\n",
       "<table border=\"1\" class=\"dataframe\">\n",
       "  <thead>\n",
       "    <tr style=\"text-align: right;\">\n",
       "      <th></th>\n",
       "      <th>avaliacao</th>\n",
       "      <th>texto</th>\n",
       "      <th>sentimento</th>\n",
       "    </tr>\n",
       "  </thead>\n",
       "  <tbody>\n",
       "    <tr>\n",
       "      <th>0</th>\n",
       "      <td>1</td>\n",
       "      <td>O livro chegou bastante 'entortado'</td>\n",
       "      <td>insatisfação</td>\n",
       "    </tr>\n",
       "    <tr>\n",
       "      <th>1</th>\n",
       "      <td>5</td>\n",
       "      <td>O livro de Dale Carnegie é um clássico da auto...</td>\n",
       "      <td>satisfação</td>\n",
       "    </tr>\n",
       "    <tr>\n",
       "      <th>2</th>\n",
       "      <td>5</td>\n",
       "      <td>Confesso que sempre tenho um preconceito com l...</td>\n",
       "      <td>satisfação</td>\n",
       "    </tr>\n",
       "    <tr>\n",
       "      <th>3</th>\n",
       "      <td>5</td>\n",
       "      <td>Já tinha lido outro livro do Dale Carnegie ant...</td>\n",
       "      <td>satisfação</td>\n",
       "    </tr>\n",
       "    <tr>\n",
       "      <th>4</th>\n",
       "      <td>5</td>\n",
       "      <td>Clássico atemporal publicado pela primeira vez...</td>\n",
       "      <td>satisfação</td>\n",
       "    </tr>\n",
       "  </tbody>\n",
       "</table>\n",
       "</div>"
      ],
      "text/plain": [
       "   avaliacao                                              texto    sentimento\n",
       "0          1                O livro chegou bastante 'entortado'  insatisfação\n",
       "1          5  O livro de Dale Carnegie é um clássico da auto...    satisfação\n",
       "2          5  Confesso que sempre tenho um preconceito com l...    satisfação\n",
       "3          5  Já tinha lido outro livro do Dale Carnegie ant...    satisfação\n",
       "4          5  Clássico atemporal publicado pela primeira vez...    satisfação"
      ]
     },
     "execution_count": 132,
     "metadata": {},
     "output_type": "execute_result"
    }
   ],
   "source": [
    "df.head()"
   ]
  }
 ],
 "metadata": {
  "kernelspec": {
   "display_name": "Python 3 (ipykernel)",
   "language": "python",
   "name": "python3"
  },
  "language_info": {
   "codemirror_mode": {
    "name": "ipython",
    "version": 3
   },
   "file_extension": ".py",
   "mimetype": "text/x-python",
   "name": "python",
   "nbconvert_exporter": "python",
   "pygments_lexer": "ipython3",
   "version": "3.9.12"
  }
 },
 "nbformat": 4,
 "nbformat_minor": 5
}
