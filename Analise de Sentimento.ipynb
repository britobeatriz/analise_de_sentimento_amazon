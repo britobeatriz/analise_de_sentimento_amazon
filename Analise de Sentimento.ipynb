{
 "cells": [
  {
   "cell_type": "markdown",
   "id": "457e968d",
   "metadata": {},
   "source": [
    "# Bibliotecas"
   ]
  },
  {
   "cell_type": "code",
   "execution_count": 2,
   "id": "abf26894",
   "metadata": {},
   "outputs": [],
   "source": [
    "import pandas as pd\n",
    "import seaborn as sns\n",
    "from wordcloud import WordCloud\n",
    "import nltk\n",
    "import matplotlib.pyplot as plt"
   ]
  },
  {
   "cell_type": "markdown",
   "id": "fd447ab2",
   "metadata": {},
   "source": [
    "## Importando os dados"
   ]
  },
  {
   "cell_type": "code",
   "execution_count": 3,
   "id": "9fac0383",
   "metadata": {},
   "outputs": [],
   "source": [
    "dados = pd.read_csv('./dados/dados_tratados.csv')"
   ]
  },
  {
   "cell_type": "markdown",
   "id": "f56841d9",
   "metadata": {},
   "source": [
    "# Informações gerais dos dados"
   ]
  },
  {
   "cell_type": "code",
   "execution_count": 4,
   "id": "37f19b12",
   "metadata": {},
   "outputs": [
    {
     "name": "stdout",
     "output_type": "stream",
     "text": [
      "Sentimentos presentes na base: \n"
     ]
    },
    {
     "data": {
      "text/plain": [
       "satisfação      388\n",
       "neutro           17\n",
       "insatisfação     15\n",
       "Name: sentimento, dtype: int64"
      ]
     },
     "execution_count": 4,
     "metadata": {},
     "output_type": "execute_result"
    }
   ],
   "source": [
    "print('Sentimentos presentes na base: ')\n",
    "dados.sentimento.value_counts()"
   ]
  },
  {
   "cell_type": "code",
   "execution_count": 5,
   "id": "193be776",
   "metadata": {},
   "outputs": [
    {
     "name": "stdout",
     "output_type": "stream",
     "text": [
      "Sentimentos em porcentagem: \n",
      "\n",
      "satisfação      92.380952\n",
      "neutro           4.047619\n",
      "insatisfação     3.571429\n",
      "Name: sentimento, dtype: float64\n"
     ]
    }
   ],
   "source": [
    "print('Sentimentos em porcentagem: \\n')\n",
    "print((dados.sentimento.value_counts() / dados.shape[0]) * 100)"
   ]
  },
  {
   "cell_type": "markdown",
   "id": "98aaea22",
   "metadata": {},
   "source": [
    "## Visualizando sentimentos no gráfico"
   ]
  },
  {
   "cell_type": "code",
   "execution_count": 9,
   "id": "9db16ad8",
   "metadata": {},
   "outputs": [
    {
     "data": {
      "text/plain": [
       "<seaborn.axisgrid.FacetGrid at 0x1d65d083df0>"
      ]
     },
     "execution_count": 9,
     "metadata": {},
     "output_type": "execute_result"
    },
    {
     "data": {
      "image/png": "[encoded data removed]",
      "text/plain": [
       "<Figure size 720x360 with 1 Axes>"
      ]
     },
     "metadata": {
      "needs_background": "light"
     },
     "output_type": "display_data"
    }
   ],
   "source": [
    "sns.catplot(x = 'sentimento', kind = 'count', data = dados, height = 5, aspect = 2)"
   ]
  },
  {
   "cell_type": "code",
   "execution_count": null,
   "id": "1fc6c284",
   "metadata": {},
   "outputs": [],
   "source": []
  }
 ],
 "metadata": {
  "kernelspec": {
   "display_name": "Python 3 (ipykernel)",
   "language": "python",
   "name": "python3"
  },
  "language_info": {
   "codemirror_mode": {
    "name": "ipython",
    "version": 3
   },
   "file_extension": ".py",
   "mimetype": "text/x-python",
   "name": "python",
   "nbconvert_exporter": "python",
   "pygments_lexer": "ipython3",
   "version": "3.9.12"
  }
 },
 "nbformat": 4,
 "nbformat_minor": 5
}
