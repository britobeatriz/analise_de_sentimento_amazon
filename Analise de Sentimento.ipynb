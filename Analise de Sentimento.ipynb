{
 "cells": [
  {
   "cell_type": "markdown",
   "id": "8ca15689",
   "metadata": {},
   "source": [
    "# Bibliotecas"
   ]
  },
  {
   "cell_type": "code",
   "execution_count": 4,
   "id": "faf8f4aa",
   "metadata": {},
   "outputs": [],
   "source": [
    "import pandas as pd"
   ]
  },
  {
   "cell_type": "markdown",
   "id": "11256402",
   "metadata": {},
   "source": [
    "## Importando os dados"
   ]
  },
  {
   "cell_type": "code",
   "execution_count": 5,
   "id": "eba86e71",
   "metadata": {},
   "outputs": [],
   "source": [
    "dados = pd.read_csv('./dados/dados_tratados.csv')"
   ]
  },
  {
   "cell_type": "markdown",
   "id": "0aa7e6d4",
   "metadata": {},
   "source": [
    "# Informações gerais dos dados"
   ]
  },
  {
   "cell_type": "code",
   "execution_count": 6,
   "id": "cac38b6a",
   "metadata": {},
   "outputs": [
    {
     "data": {
      "text/html": [
       "<div>\n",
       "<style scoped>\n",
       "    .dataframe tbody tr th:only-of-type {\n",
       "        vertical-align: middle;\n",
       "    }\n",
       "\n",
       "    .dataframe tbody tr th {\n",
       "        vertical-align: top;\n",
       "    }\n",
       "\n",
       "    .dataframe thead th {\n",
       "        text-align: right;\n",
       "    }\n",
       "</style>\n",
       "<table border=\"1\" class=\"dataframe\">\n",
       "  <thead>\n",
       "    <tr style=\"text-align: right;\">\n",
       "      <th></th>\n",
       "      <th>avaliacao</th>\n",
       "      <th>texto</th>\n",
       "      <th>sentimento</th>\n",
       "    </tr>\n",
       "  </thead>\n",
       "  <tbody>\n",
       "    <tr>\n",
       "      <th>0</th>\n",
       "      <td>1</td>\n",
       "      <td>O livro chegou bastante 'entortado'</td>\n",
       "      <td>insatisfação</td>\n",
       "    </tr>\n",
       "    <tr>\n",
       "      <th>1</th>\n",
       "      <td>5</td>\n",
       "      <td>O livro de Dale Carnegie é um clássico da auto...</td>\n",
       "      <td>satisfação</td>\n",
       "    </tr>\n",
       "    <tr>\n",
       "      <th>2</th>\n",
       "      <td>5</td>\n",
       "      <td>Confesso que sempre tenho um preconceito com l...</td>\n",
       "      <td>satisfação</td>\n",
       "    </tr>\n",
       "    <tr>\n",
       "      <th>3</th>\n",
       "      <td>5</td>\n",
       "      <td>Já tinha lido outro livro do Dale Carnegie ant...</td>\n",
       "      <td>satisfação</td>\n",
       "    </tr>\n",
       "    <tr>\n",
       "      <th>4</th>\n",
       "      <td>5</td>\n",
       "      <td>Clássico atemporal publicado pela primeira vez...</td>\n",
       "      <td>satisfação</td>\n",
       "    </tr>\n",
       "    <tr>\n",
       "      <th>...</th>\n",
       "      <td>...</td>\n",
       "      <td>...</td>\n",
       "      <td>...</td>\n",
       "    </tr>\n",
       "    <tr>\n",
       "      <th>415</th>\n",
       "      <td>5</td>\n",
       "      <td>Adorei a proposta do livro e os ensinamentos d...</td>\n",
       "      <td>satisfação</td>\n",
       "    </tr>\n",
       "    <tr>\n",
       "      <th>416</th>\n",
       "      <td>5</td>\n",
       "      <td>Apesar de o ego nem sempre deixar os ensinamen...</td>\n",
       "      <td>satisfação</td>\n",
       "    </tr>\n",
       "    <tr>\n",
       "      <th>417</th>\n",
       "      <td>5</td>\n",
       "      <td>Livro que nos faz refletir sobre como estamos ...</td>\n",
       "      <td>satisfação</td>\n",
       "    </tr>\n",
       "    <tr>\n",
       "      <th>418</th>\n",
       "      <td>5</td>\n",
       "      <td>Excelente</td>\n",
       "      <td>satisfação</td>\n",
       "    </tr>\n",
       "    <tr>\n",
       "      <th>419</th>\n",
       "      <td>5</td>\n",
       "      <td>Very good!!</td>\n",
       "      <td>satisfação</td>\n",
       "    </tr>\n",
       "  </tbody>\n",
       "</table>\n",
       "<p>420 rows × 3 columns</p>\n",
       "</div>"
      ],
      "text/plain": [
       "     avaliacao                                              texto  \\\n",
       "0            1                O livro chegou bastante 'entortado'   \n",
       "1            5  O livro de Dale Carnegie é um clássico da auto...   \n",
       "2            5  Confesso que sempre tenho um preconceito com l...   \n",
       "3            5  Já tinha lido outro livro do Dale Carnegie ant...   \n",
       "4            5  Clássico atemporal publicado pela primeira vez...   \n",
       "..         ...                                                ...   \n",
       "415          5  Adorei a proposta do livro e os ensinamentos d...   \n",
       "416          5  Apesar de o ego nem sempre deixar os ensinamen...   \n",
       "417          5  Livro que nos faz refletir sobre como estamos ...   \n",
       "418          5                                          Excelente   \n",
       "419          5                                        Very good!!   \n",
       "\n",
       "       sentimento  \n",
       "0    insatisfação  \n",
       "1      satisfação  \n",
       "2      satisfação  \n",
       "3      satisfação  \n",
       "4      satisfação  \n",
       "..            ...  \n",
       "415    satisfação  \n",
       "416    satisfação  \n",
       "417    satisfação  \n",
       "418    satisfação  \n",
       "419    satisfação  \n",
       "\n",
       "[420 rows x 3 columns]"
      ]
     },
     "execution_count": 6,
     "metadata": {},
     "output_type": "execute_result"
    }
   ],
   "source": [
    "dados"
   ]
  },
  {
   "cell_type": "code",
   "execution_count": null,
   "id": "e881217a",
   "metadata": {},
   "outputs": [],
   "source": []
  },
  {
   "cell_type": "code",
   "execution_count": null,
   "id": "8bfbf5dc",
   "metadata": {},
   "outputs": [],
   "source": []
  }
 ],
 "metadata": {
  "kernelspec": {
   "display_name": "Python 3 (ipykernel)",
   "language": "python",
   "name": "python3"
  },
  "language_info": {
   "codemirror_mode": {
    "name": "ipython",
    "version": 3
   },
   "file_extension": ".py",
   "mimetype": "text/x-python",
   "name": "python",
   "nbconvert_exporter": "python",
   "pygments_lexer": "ipython3",
   "version": "3.9.12"
  }
 },
 "nbformat": 4,
 "nbformat_minor": 5
}
