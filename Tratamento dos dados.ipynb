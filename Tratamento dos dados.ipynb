{
 "cells": [
  {
   "cell_type": "markdown",
   "id": "029e01da",
   "metadata": {},
   "source": [
    "# Visualização dos dados e tratamento"
   ]
  },
  {
   "cell_type": "markdown",
   "id": "8f538088",
   "metadata": {},
   "source": [
    "## Bibliotecas"
   ]
  },
  {
   "cell_type": "code",
   "execution_count": 96,
   "id": "fd44a1d9",
   "metadata": {},
   "outputs": [],
   "source": [
    "import re\n",
    "import pandas as pd\n",
    "import numpy as np\n",
    "import nltk"
   ]
  },
  {
   "cell_type": "markdown",
   "id": "4466fd4d",
   "metadata": {},
   "source": [
    "## Visualizando e conhecendo o DataFrame"
   ]
  },
  {
   "cell_type": "code",
   "execution_count": 97,
   "id": "b274e31d",
   "metadata": {},
   "outputs": [
    {
     "data": {
      "text/html": [
       "<div>\n",
       "<style scoped>\n",
       "    .dataframe tbody tr th:only-of-type {\n",
       "        vertical-align: middle;\n",
       "    }\n",
       "\n",
       "    .dataframe tbody tr th {\n",
       "        vertical-align: top;\n",
       "    }\n",
       "\n",
       "    .dataframe thead th {\n",
       "        text-align: right;\n",
       "    }\n",
       "</style>\n",
       "<table border=\"1\" class=\"dataframe\">\n",
       "  <thead>\n",
       "    <tr style=\"text-align: right;\">\n",
       "      <th></th>\n",
       "      <th>avaliacao</th>\n",
       "      <th>texto</th>\n",
       "    </tr>\n",
       "  </thead>\n",
       "  <tbody>\n",
       "    <tr>\n",
       "      <th>0</th>\n",
       "      <td>1,0 de 5 estrelas</td>\n",
       "      <td>\\nO livro chegou bastante 'entortado'\\n</td>\n",
       "    </tr>\n",
       "    <tr>\n",
       "      <th>1</th>\n",
       "      <td>5,0 de 5 estrelas</td>\n",
       "      <td>\\nO livro de Dale Carnegie é um clássico da au...</td>\n",
       "    </tr>\n",
       "    <tr>\n",
       "      <th>2</th>\n",
       "      <td>5,0 de 5 estrelas</td>\n",
       "      <td>\\nConfesso que sempre tenho um preconceito com...</td>\n",
       "    </tr>\n",
       "    <tr>\n",
       "      <th>3</th>\n",
       "      <td>5,0 de 5 estrelas</td>\n",
       "      <td>\\nJá tinha lido outro livro do Dale Carnegie a...</td>\n",
       "    </tr>\n",
       "    <tr>\n",
       "      <th>4</th>\n",
       "      <td>5,0 de 5 estrelas</td>\n",
       "      <td>\\nClássico atemporal publicado pela primeira v...</td>\n",
       "    </tr>\n",
       "  </tbody>\n",
       "</table>\n",
       "</div>"
      ],
      "text/plain": [
       "           avaliacao                                              texto\n",
       "0  1,0 de 5 estrelas            \\nO livro chegou bastante 'entortado'\\n\n",
       "1  5,0 de 5 estrelas  \\nO livro de Dale Carnegie é um clássico da au...\n",
       "2  5,0 de 5 estrelas  \\nConfesso que sempre tenho um preconceito com...\n",
       "3  5,0 de 5 estrelas  \\nJá tinha lido outro livro do Dale Carnegie a...\n",
       "4  5,0 de 5 estrelas  \\nClássico atemporal publicado pela primeira v..."
      ]
     },
     "execution_count": 97,
     "metadata": {},
     "output_type": "execute_result"
    }
   ],
   "source": [
    "dados = pd.read_csv('dados/scrap.csv', sep=';')\n",
    "dados.head()"
   ]
  },
  {
   "cell_type": "code",
   "execution_count": 98,
   "id": "85411301",
   "metadata": {},
   "outputs": [
    {
     "name": "stdout",
     "output_type": "stream",
     "text": [
      "O DataFrame possui 427 linhas e 2 colunas.\n"
     ]
    }
   ],
   "source": [
    "print(f'O DataFrame possui {dados.shape[0]} linhas e {dados.shape[1]} colunas.')"
   ]
  },
  {
   "cell_type": "code",
   "execution_count": 99,
   "id": "68799204",
   "metadata": {},
   "outputs": [
    {
     "name": "stdout",
     "output_type": "stream",
     "text": [
      "Ocorrencia de valor nulo em cada coluna:\n"
     ]
    },
    {
     "data": {
      "text/plain": [
       "avaliacao    0\n",
       "texto        7\n",
       "dtype: int64"
      ]
     },
     "execution_count": 99,
     "metadata": {},
     "output_type": "execute_result"
    }
   ],
   "source": [
    "print('Ocorrencia de valor nulo em cada coluna:')\n",
    "dados.isna().sum()"
   ]
  },
  {
   "cell_type": "code",
   "execution_count": 100,
   "id": "0a832a35",
   "metadata": {},
   "outputs": [],
   "source": [
    "# removendo valores nulo #\n",
    "dados = dados.dropna(how = 'any') #any - remove a linha inteira que contem ao menos 1 valor nulo\n",
    "#  #  #  #"
   ]
  },
  {
   "cell_type": "code",
   "execution_count": 101,
   "id": "5fb6ef92",
   "metadata": {},
   "outputs": [
    {
     "name": "stdout",
     "output_type": "stream",
     "text": [
      "O DataFrame sem dados nulos possui 420 linhas e 2 colunas.\n"
     ]
    }
   ],
   "source": [
    "print(f'O DataFrame sem dados nulos possui {dados.shape[0]} linhas e {dados.shape[1]} colunas.')"
   ]
  },
  {
   "cell_type": "code",
   "execution_count": 102,
   "id": "03d09db1",
   "metadata": {},
   "outputs": [],
   "source": [
    "# transformando dados #\n",
    "# variavel dados\n",
    "\n",
    "# removendo o \\n da coluna 'texto' #\n",
    "dados['texto'] = dados['texto'].map(lambda x: str(x).replace('\\n', ''))\n",
    "\n",
    "# removendo \",0 de 5 estrelas\" dos valores da coluna 'avaliacao' #\n",
    "dados['avaliacao'] = dados['avaliacao'].map(lambda x: str(x).replace(',0 de 5 estrelas', '',))\n",
    "\n",
    "# transformando 'avaliacao' em numeros inteiros #\n",
    "dados['avaliacao'] = dados['avaliacao'].astype(int)"
   ]
  },
  {
   "cell_type": "code",
   "execution_count": 103,
   "id": "06bedf58",
   "metadata": {},
   "outputs": [],
   "source": [
    "# tranformando dados #\n",
    "#variavel df\n",
    "\n",
    "# adicionando coluna 'sentimento' #\n",
    "df = pd.DataFrame(dados,columns=['avaliacao','texto','sentimento'])\n",
    "\n",
    "# substituindo valores nulos por sentimentos #\n",
    "#(<3) = insatisfação, (3) = neutro, (>3) = satisfação\n",
    "df.loc[df.avaliacao < 3,'sentimento']='insatisfação'\n",
    "df.loc[df.avaliacao == 3,'sentimento']='neutro'\n",
    "df.loc[df.avaliacao > 3,'sentimento']='satisfação'\n",
    "\n",
    "# removendo coluna 'avaliacao' #\n",
    "df = df.drop(columns={'avaliacao'})\n",
    "\n",
    "#  #  #  #"
   ]
  },
  {
   "cell_type": "markdown",
   "id": "bfe1cf24",
   "metadata": {},
   "source": [
    "## Limpeza do texto"
   ]
  },
  {
   "cell_type": "markdown",
   "id": "78c04feb",
   "metadata": {},
   "source": [
    "### Processamento"
   ]
  },
  {
   "cell_type": "code",
   "execution_count": 104,
   "id": "72727c12",
   "metadata": {},
   "outputs": [],
   "source": [
    "# removendo caracteres especiais #\n",
    "\n",
    "def remove_caracteres_especiais(text):\n",
    "    tags_html = re.compile('[^A-Za-z0-9\\s]+')\n",
    "    return tags_html.sub(r'', text)\n",
    "\n",
    "df['texto'] = df['texto'].apply(remove_caracteres_especiais)\n",
    "#  #  #  #"
   ]
  },
  {
   "cell_type": "code",
   "execution_count": 105,
   "id": "1250be68",
   "metadata": {},
   "outputs": [],
   "source": [
    "# transformando uppercase em lowercase #\n",
    "\n",
    "def lower(text):\n",
    "    return text.lower()\n",
    "\n",
    "df['texto'] = df['texto'].apply(lower)"
   ]
  },
  {
   "cell_type": "code",
   "execution_count": 106,
   "id": "cc3556c1",
   "metadata": {
    "collapsed": true
   },
   "outputs": [
    {
     "data": {
      "text/plain": [
       "array(['de', 'a', 'o', 'que', 'e', 'é', 'do', 'da', 'em', 'um', 'para',\n",
       "       'com', 'não', 'uma', 'os', 'no', 'se', 'na', 'por', 'mais', 'as',\n",
       "       'dos', 'como', 'mas', 'ao', 'ele', 'das', 'à', 'seu', 'sua', 'ou',\n",
       "       'quando', 'muito', 'nos', 'já', 'eu', 'também', 'só', 'pelo',\n",
       "       'pela', 'até', 'isso', 'ela', 'entre', 'depois', 'sem', 'mesmo',\n",
       "       'aos', 'seus', 'quem', 'nas', 'me', 'esse', 'eles', 'você', 'essa',\n",
       "       'num', 'nem', 'suas', 'meu', 'às', 'minha', 'numa', 'pelos',\n",
       "       'elas', 'qual', 'nós', 'lhe', 'deles', 'essas', 'esses', 'pelas',\n",
       "       'este', 'dele', 'tu', 'te', 'vocês', 'vos', 'lhes', 'meus',\n",
       "       'minhas', 'teu', 'tua', 'teus', 'tuas', 'nosso', 'nossa', 'nossos',\n",
       "       'nossas', 'dela', 'delas', 'esta', 'estes', 'estas', 'aquele',\n",
       "       'aquela', 'aqueles', 'aquelas', 'isto', 'aquilo', 'estou', 'está',\n",
       "       'estamos', 'estão', 'estive', 'esteve', 'estivemos', 'estiveram',\n",
       "       'estava', 'estávamos', 'estavam', 'estivera', 'estivéramos',\n",
       "       'esteja', 'estejamos', 'estejam', 'estivesse', 'estivéssemos',\n",
       "       'estivessem', 'estiver', 'estivermos', 'estiverem', 'hei', 'há',\n",
       "       'havemos', 'hão', 'houve', 'houvemos', 'houveram', 'houvera',\n",
       "       'houvéramos', 'haja', 'hajamos', 'hajam', 'houvesse',\n",
       "       'houvéssemos', 'houvessem', 'houver', 'houvermos', 'houverem',\n",
       "       'houverei', 'houverá', 'houveremos', 'houverão', 'houveria',\n",
       "       'houveríamos', 'houveriam', 'sou', 'somos', 'são', 'era', 'éramos',\n",
       "       'eram', 'fui', 'foi', 'fomos', 'foram', 'fora', 'fôramos', 'seja',\n",
       "       'sejamos', 'sejam', 'fosse', 'fôssemos', 'fossem', 'for', 'formos',\n",
       "       'forem', 'serei', 'será', 'seremos', 'serão', 'seria', 'seríamos',\n",
       "       'seriam', 'tenho', 'tem', 'temos', 'tém', 'tinha', 'tínhamos',\n",
       "       'tinham', 'tive', 'teve', 'tivemos', 'tiveram', 'tivera',\n",
       "       'tivéramos', 'tenha', 'tenhamos', 'tenham', 'tivesse',\n",
       "       'tivéssemos', 'tivessem', 'tiver', 'tivermos', 'tiverem', 'terei',\n",
       "       'terá', 'teremos', 'terão', 'teria', 'teríamos', 'teriam'],\n",
       "      dtype='<U12')"
      ]
     },
     "execution_count": 106,
     "metadata": {},
     "output_type": "execute_result"
    }
   ],
   "source": [
    "# removendo stopwords #\n",
    "\n",
    "lista_stop_words = nltk.corpus.stopwords.words('portuguese')\n",
    "np.transpose(lista_stop_words)"
   ]
  },
  {
   "cell_type": "code",
   "execution_count": 107,
   "id": "6427e3a1",
   "metadata": {},
   "outputs": [],
   "source": [
    "def removestopwords(texto):\n",
    "    frases = []\n",
    "    for(texto) in texto:\n",
    "        sem_stop = [p for p in texto.split() if p not in lista_stop_words]\n",
    "        frases.append((sem_stop))\n",
    "    return frases\n",
    "\n",
    "df['texto'] = removestopwords(df['texto'])"
   ]
  },
  {
   "cell_type": "markdown",
   "id": "59abc210",
   "metadata": {},
   "source": [
    "### Pré Processamento"
   ]
  },
  {
   "cell_type": "code",
   "execution_count": null,
   "id": "2789c355",
   "metadata": {},
   "outputs": [],
   "source": []
  },
  {
   "cell_type": "code",
   "execution_count": 108,
   "id": "baf0b495",
   "metadata": {},
   "outputs": [],
   "source": [
    "df.to_csv('dados/dados_tratados.csv', index = False)"
   ]
  }
 ],
 "metadata": {
  "kernelspec": {
   "display_name": "Python 3 (ipykernel)",
   "language": "python",
   "name": "python3"
  },
  "language_info": {
   "codemirror_mode": {
    "name": "ipython",
    "version": 3
   },
   "file_extension": ".py",
   "mimetype": "text/x-python",
   "name": "python",
   "nbconvert_exporter": "python",
   "pygments_lexer": "ipython3",
   "version": "3.9.12"
  }
 },
 "nbformat": 4,
 "nbformat_minor": 5
}
